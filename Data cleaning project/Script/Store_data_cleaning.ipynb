{
 "cells": [
  {
   "cell_type": "markdown",
   "id": "0b58b0b0",
   "metadata": {},
   "source": [
    "# Importing Libraries"
   ]
  },
  {
   "cell_type": "code",
   "execution_count": null,
   "id": "d82d0c50",
   "metadata": {},
   "outputs": [],
   "source": [
    "\n",
    "import pandas as pd\n",
    "import matplotlib.pyplot as plt\n",
    "import numpy as np"
   ]
  },
  {
   "cell_type": "markdown",
   "id": "d63a84ba",
   "metadata": {},
   "source": [
    "# Reading the file"
   ]
  },
  {
   "cell_type": "code",
   "execution_count": null,
   "id": "57b6d6c8",
   "metadata": {},
   "outputs": [],
   "source": [
    "df = pd.read_csv(\"data/Minitab.csv\",na_values=\"*\")\n",
    "print(df.head())\n",
    "print(df.info())"
   ]
  },
  {
   "cell_type": "markdown",
   "id": "244ade1a",
   "metadata": {},
   "source": [
    "# Removing redundant columns"
   ]
  },
  {
   "cell_type": "code",
   "execution_count": null,
   "id": "4d607701",
   "metadata": {},
   "outputs": [],
   "source": [
    "\n",
    "df.drop(columns='invoice_no',axis=1,inplace=True)\n",
    "print(df.head())"
   ]
  },
  {
   "cell_type": "markdown",
   "id": "e922e918",
   "metadata": {},
   "source": [
    "# Removing null values"
   ]
  },
  {
   "cell_type": "code",
   "execution_count": null,
   "id": "53737ce9",
   "metadata": {},
   "outputs": [],
   "source": [
    "\n",
    "print(df.isnull().sum())\n",
    "df.dropna(inplace=True)\n",
    "print(df.info())"
   ]
  },
  {
   "cell_type": "markdown",
   "id": "d2d25a5b",
   "metadata": {},
   "source": [
    "# Removing duplicates"
   ]
  },
  {
   "cell_type": "code",
   "execution_count": null,
   "id": "2fccb58c",
   "metadata": {},
   "outputs": [],
   "source": [
    "\n",
    "print(df.duplicated().sum())\n",
    "df.drop_duplicates(inplace=True)\n",
    "print(df.duplicated().sum())"
   ]
  },
  {
   "cell_type": "markdown",
   "id": "9822f110",
   "metadata": {},
   "source": [
    "# Fixing date format"
   ]
  },
  {
   "cell_type": "code",
   "execution_count": null,
   "id": "9e1a20e1",
   "metadata": {},
   "outputs": [],
   "source": [
    "\n",
    "df['invoice_date'] = pd.to_datetime(df['invoice_date'])\n",
    "df = df.sort_values(by='invoice_date')\n",
    "df.reset_index(drop=True, inplace=True)\n",
    "print(df.head())"
   ]
  },
  {
   "cell_type": "markdown",
   "id": "5fea01d1",
   "metadata": {},
   "source": [
    "# Data transformations"
   ]
  },
  {
   "cell_type": "code",
   "execution_count": null,
   "id": "08168203",
   "metadata": {},
   "outputs": [],
   "source": [
    "\n",
    "print(df['gender'].value_counts())\n",
    "df['gender'] = df['gender'].map({'Male':'M','Female':'F'})\n",
    "print(df.head())"
   ]
  },
  {
   "cell_type": "markdown",
   "id": "dbbc515f",
   "metadata": {},
   "source": [
    "# Calculate the profit"
   ]
  },
  {
   "cell_type": "code",
   "execution_count": null,
   "id": "f02f8e5e",
   "metadata": {},
   "outputs": [],
   "source": [
    "\n",
    "df['profit'] = (df['selling_price_per_unit'] - df['cost_price_per_unit']) * df['quantity']\n",
    "print(df.head())\n",
    "Total_profit = df['profit'].sum()\n",
    "print(Total_profit)\n",
    "\n",
    "df.to_csv(\"data/Cleaned.csv\", index=False)\n"
   ]
  },
  {
   "cell_type": "markdown",
   "id": "d5b5573d",
   "metadata": {},
   "source": [
    "# Bar graph of Profit vs category"
   ]
  },
  {
   "cell_type": "code",
   "execution_count": null,
   "id": "6b5af19b",
   "metadata": {},
   "outputs": [],
   "source": [
    "\n",
    "pro_vs_cate = df.groupby(['category'])['profit'].sum()\n",
    "print(pro_vs_cate)\n",
    "pro_vs_cate.plot(kind='bar')\n",
    "plt.title('Profit for each category')\n",
    "plt.xlabel('Categories')\n",
    "plt.ylabel('Profit')\n",
    "plt.show()"
   ]
  },
  {
   "cell_type": "markdown",
   "id": "98de9d41",
   "metadata": {},
   "source": [
    "# Histogram of Age distribution"
   ]
  },
  {
   "cell_type": "code",
   "execution_count": null,
   "id": "322acec0",
   "metadata": {},
   "outputs": [],
   "source": [
    "\n",
    "plt.hist(df['age'],bins=50)\n",
    "plt.title('Age Distribution of costomers')\n",
    "plt.xlabel('Age range')\n",
    "plt.ylabel('Count')\n",
    "plt.show()"
   ]
  },
  {
   "cell_type": "markdown",
   "id": "cd6dae92",
   "metadata": {},
   "source": [
    "# Pie chart of Payment methods"
   ]
  },
  {
   "cell_type": "code",
   "execution_count": null,
   "id": "abbb601c",
   "metadata": {},
   "outputs": [],
   "source": [
    "\n",
    "payment_groups = df['payment_method'].value_counts()\n",
    "print(payment_groups)\n",
    "plt.pie(payment_groups,labels=payment_groups.index,autopct='%1.1f%%')\n",
    "plt.legend(df['payment_method'].unique())\n",
    "plt.show()"
   ]
  },
  {
   "cell_type": "markdown",
   "id": "9be776ef",
   "metadata": {},
   "source": [
    "# Line chart of profit over time"
   ]
  },
  {
   "cell_type": "code",
   "execution_count": null,
   "id": "273a25b6",
   "metadata": {},
   "outputs": [],
   "source": [
    "\n",
    "profit_by_month = df.groupby(df['invoice_date'].dt.to_period('M'))['profit'].sum()\n",
    "profit_by_month.plot(kind='line')\n",
    "plt.xticks(rotation=45)\n",
    "plt.tight_layout()\n",
    "plt.title('Profit over months')\n",
    "plt.xlabel('Months')\n",
    "plt.ylabel('profit')\n",
    "plt.show()"
   ]
  }
 ],
 "metadata": {
  "language_info": {
   "name": "python"
  }
 },
 "nbformat": 4,
 "nbformat_minor": 5
}
